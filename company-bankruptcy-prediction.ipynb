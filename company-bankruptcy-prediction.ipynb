{
 "cells": [
  {
   "cell_type": "code",
   "execution_count": 1,
   "id": "1f051624",
   "metadata": {
    "_cell_guid": "b1076dfc-b9ad-4769-8c92-a6c4dae69d19",
    "_uuid": "8f2839f25d086af736a60e9eeb907d3b93b6e0e5",
    "execution": {
     "iopub.execute_input": "2023-11-30T18:26:26.051371Z",
     "iopub.status.busy": "2023-11-30T18:26:26.050468Z",
     "iopub.status.idle": "2023-11-30T18:26:48.078700Z",
     "shell.execute_reply": "2023-11-30T18:26:48.077740Z"
    },
    "papermill": {
     "duration": 22.039444,
     "end_time": "2023-11-30T18:26:48.081280",
     "exception": false,
     "start_time": "2023-11-30T18:26:26.041836",
     "status": "completed"
    },
    "tags": []
   },
   "outputs": [
    {
     "name": "stdout",
     "output_type": "stream",
     "text": [
      "Collecting feature_engine\r\n",
      "  Obtaining dependency information for feature_engine from https://files.pythonhosted.org/packages/62/60/77fcc9d3cfaabab34027aa8ea0025c5e2d4cf9561fa9725a38f0785b43aa/feature_engine-1.6.2-py2.py3-none-any.whl.metadata\r\n",
      "  Downloading feature_engine-1.6.2-py2.py3-none-any.whl.metadata (8.8 kB)\r\n",
      "Requirement already satisfied: numpy>=1.18.2 in /opt/conda/lib/python3.10/site-packages (from feature_engine) (1.24.3)\r\n",
      "Requirement already satisfied: pandas>=1.0.3 in /opt/conda/lib/python3.10/site-packages (from feature_engine) (2.0.3)\r\n",
      "Requirement already satisfied: scikit-learn>=1.0.0 in /opt/conda/lib/python3.10/site-packages (from feature_engine) (1.2.2)\r\n",
      "Requirement already satisfied: scipy>=1.4.1 in /opt/conda/lib/python3.10/site-packages (from feature_engine) (1.11.3)\r\n",
      "Requirement already satisfied: statsmodels>=0.11.1 in /opt/conda/lib/python3.10/site-packages (from feature_engine) (0.14.0)\r\n",
      "Requirement already satisfied: python-dateutil>=2.8.2 in /opt/conda/lib/python3.10/site-packages (from pandas>=1.0.3->feature_engine) (2.8.2)\r\n",
      "Requirement already satisfied: pytz>=2020.1 in /opt/conda/lib/python3.10/site-packages (from pandas>=1.0.3->feature_engine) (2023.3)\r\n",
      "Requirement already satisfied: tzdata>=2022.1 in /opt/conda/lib/python3.10/site-packages (from pandas>=1.0.3->feature_engine) (2023.3)\r\n",
      "Requirement already satisfied: joblib>=1.1.1 in /opt/conda/lib/python3.10/site-packages (from scikit-learn>=1.0.0->feature_engine) (1.3.2)\r\n",
      "Requirement already satisfied: threadpoolctl>=2.0.0 in /opt/conda/lib/python3.10/site-packages (from scikit-learn>=1.0.0->feature_engine) (3.2.0)\r\n",
      "Requirement already satisfied: patsy>=0.5.2 in /opt/conda/lib/python3.10/site-packages (from statsmodels>=0.11.1->feature_engine) (0.5.3)\r\n",
      "Requirement already satisfied: packaging>=21.3 in /opt/conda/lib/python3.10/site-packages (from statsmodels>=0.11.1->feature_engine) (21.3)\r\n",
      "Requirement already satisfied: pyparsing!=3.0.5,>=2.0.2 in /opt/conda/lib/python3.10/site-packages (from packaging>=21.3->statsmodels>=0.11.1->feature_engine) (3.0.9)\r\n",
      "Requirement already satisfied: six in /opt/conda/lib/python3.10/site-packages (from patsy>=0.5.2->statsmodels>=0.11.1->feature_engine) (1.16.0)\r\n",
      "Downloading feature_engine-1.6.2-py2.py3-none-any.whl (328 kB)\r\n",
      "\u001b[2K   \u001b[90m━━━━━━━━━━━━━━━━━━━━━━━━━━━━━━━━━━━━━━━━\u001b[0m \u001b[32m328.9/328.9 kB\u001b[0m \u001b[31m10.1 MB/s\u001b[0m eta \u001b[36m0:00:00\u001b[0m\r\n",
      "\u001b[?25hInstalling collected packages: feature_engine\r\n",
      "Successfully installed feature_engine-1.6.2\r\n",
      "/kaggle/input/company-bankruptcy-prediction/data.csv\n"
     ]
    }
   ],
   "source": [
    "# This Python 3 environment comes with many helpful analytics libraries installed\n",
    "# It is defined by the kaggle/python Docker image: https://github.com/kaggle/docker-python\n",
    "# For example, here's several helpful packages to load\n",
    "!pip install feature_engine\n",
    "import numpy as np # linear algebra\n",
    "import pandas as pd # data processing, CSV file I/O (e.g. pd.read_csv)\n",
    "import seaborn as sns\n",
    "import matplotlib.pyplot as plt\n",
    "import warnings, gc, joblib, re\n",
    "warnings.filterwarnings('ignore')\n",
    "from sklearn.model_selection import train_test_split, RandomizedSearchCV, cross_val_score\n",
    "from sklearn.linear_model import LogisticRegression, PassiveAggressiveClassifier, RidgeClassifier, SGDClassifier\n",
    "from sklearn.naive_bayes import GaussianNB, BernoulliNB\n",
    "from sklearn.neighbors import KNeighborsClassifier\n",
    "from sklearn.svm import SVC, LinearSVC, NuSVC\n",
    "from sklearn.tree import DecisionTreeClassifier\n",
    "from sklearn.ensemble import RandomForestClassifier, ExtraTreesClassifier, AdaBoostClassifier, GradientBoostingClassifier, HistGradientBoostingClassifier, BaggingClassifier, VotingClassifier, StackingClassifier\n",
    "from sklearn.neural_network import MLPClassifier\n",
    "from sklearn.preprocessing import StandardScaler\n",
    "from sklearn.metrics import classification_report, confusion_matrix, ConfusionMatrixDisplay, accuracy_score, precision_score, recall_score, f1_score, roc_auc_score, PrecisionRecallDisplay, RocCurveDisplay\n",
    "from scipy.stats import probplot\n",
    "from feature_engine.outliers import Winsorizer\n",
    "from feature_engine.selection import DropConstantFeatures, DropCorrelatedFeatures, DropDuplicateFeatures\n",
    "from sklearn.pipeline import Pipeline\n",
    "from sklearn.feature_selection import SelectKBest, SelectPercentile, SelectFromModel, chi2, RFE, SequentialFeatureSelector\n",
    "from xgboost import XGBClassifier, XGBRFClassifier\n",
    "from catboost import CatBoostClassifier\n",
    "from lightgbm import LGBMClassifier\n",
    "from imblearn.over_sampling import BorderlineSMOTE\n",
    "from collections import Counter\n",
    "from yellowbrick.classifier import ClassPredictionError\n",
    "\n",
    "# Input data files are available in the read-only \"../input/\" directory\n",
    "# For example, running this (by clicking run or pressing Shift+Enter) will list all files under the input directory\n",
    "\n",
    "import os\n",
    "for dirname, _, filenames in os.walk('/kaggle/input'):\n",
    "    for filename in filenames:\n",
    "        print(os.path.join(dirname, filename))\n",
    "\n",
    "# You can write up to 20GB to the current directory (/kaggle/working/) that gets preserved as output when you create a version using \"Save & Run All\" \n",
    "# You can also write temporary files to /kaggle/temp/, but they won't be saved outside of the current session"
   ]
  },
  {
   "cell_type": "code",
   "execution_count": 2,
   "id": "7f342550",
   "metadata": {
    "execution": {
     "iopub.execute_input": "2023-11-30T18:26:48.098462Z",
     "iopub.status.busy": "2023-11-30T18:26:48.097032Z",
     "iopub.status.idle": "2023-11-30T18:26:48.526639Z",
     "shell.execute_reply": "2023-11-30T18:26:48.525014Z"
    },
    "papermill": {
     "duration": 0.441223,
     "end_time": "2023-11-30T18:26:48.529849",
     "exception": false,
     "start_time": "2023-11-30T18:26:48.088626",
     "status": "completed"
    },
    "tags": []
   },
   "outputs": [
    {
     "data": {
      "text/html": [
       "<div>\n",
       "<style scoped>\n",
       "    .dataframe tbody tr th:only-of-type {\n",
       "        vertical-align: middle;\n",
       "    }\n",
       "\n",
       "    .dataframe tbody tr th {\n",
       "        vertical-align: top;\n",
       "    }\n",
       "\n",
       "    .dataframe thead th {\n",
       "        text-align: right;\n",
       "    }\n",
       "</style>\n",
       "<table border=\"1\" class=\"dataframe\">\n",
       "  <thead>\n",
       "    <tr style=\"text-align: right;\">\n",
       "      <th></th>\n",
       "      <th>Bankrupt?</th>\n",
       "      <th>ROA(C) before interest and depreciation before interest</th>\n",
       "      <th>ROA(A) before interest and % after tax</th>\n",
       "      <th>ROA(B) before interest and depreciation after tax</th>\n",
       "      <th>Operating Gross Margin</th>\n",
       "      <th>Realized Sales Gross Margin</th>\n",
       "      <th>Operating Profit Rate</th>\n",
       "      <th>Pre-tax net Interest Rate</th>\n",
       "      <th>After-tax net Interest Rate</th>\n",
       "      <th>Non-industry income and expenditure/revenue</th>\n",
       "      <th>...</th>\n",
       "      <th>Net Income to Total Assets</th>\n",
       "      <th>Total assets to GNP price</th>\n",
       "      <th>No-credit Interval</th>\n",
       "      <th>Gross Profit to Sales</th>\n",
       "      <th>Net Income to Stockholder's Equity</th>\n",
       "      <th>Liability to Equity</th>\n",
       "      <th>Degree of Financial Leverage (DFL)</th>\n",
       "      <th>Interest Coverage Ratio (Interest expense to EBIT)</th>\n",
       "      <th>Net Income Flag</th>\n",
       "      <th>Equity to Liability</th>\n",
       "    </tr>\n",
       "  </thead>\n",
       "  <tbody>\n",
       "    <tr>\n",
       "      <th>0</th>\n",
       "      <td>1</td>\n",
       "      <td>0.370594</td>\n",
       "      <td>0.424389</td>\n",
       "      <td>0.405750</td>\n",
       "      <td>0.601457</td>\n",
       "      <td>0.601457</td>\n",
       "      <td>0.998969</td>\n",
       "      <td>0.796887</td>\n",
       "      <td>0.808809</td>\n",
       "      <td>0.302646</td>\n",
       "      <td>...</td>\n",
       "      <td>0.716845</td>\n",
       "      <td>0.009219</td>\n",
       "      <td>0.622879</td>\n",
       "      <td>0.601453</td>\n",
       "      <td>0.827890</td>\n",
       "      <td>0.290202</td>\n",
       "      <td>0.026601</td>\n",
       "      <td>0.564050</td>\n",
       "      <td>1</td>\n",
       "      <td>0.016469</td>\n",
       "    </tr>\n",
       "    <tr>\n",
       "      <th>1</th>\n",
       "      <td>1</td>\n",
       "      <td>0.464291</td>\n",
       "      <td>0.538214</td>\n",
       "      <td>0.516730</td>\n",
       "      <td>0.610235</td>\n",
       "      <td>0.610235</td>\n",
       "      <td>0.998946</td>\n",
       "      <td>0.797380</td>\n",
       "      <td>0.809301</td>\n",
       "      <td>0.303556</td>\n",
       "      <td>...</td>\n",
       "      <td>0.795297</td>\n",
       "      <td>0.008323</td>\n",
       "      <td>0.623652</td>\n",
       "      <td>0.610237</td>\n",
       "      <td>0.839969</td>\n",
       "      <td>0.283846</td>\n",
       "      <td>0.264577</td>\n",
       "      <td>0.570175</td>\n",
       "      <td>1</td>\n",
       "      <td>0.020794</td>\n",
       "    </tr>\n",
       "    <tr>\n",
       "      <th>2</th>\n",
       "      <td>1</td>\n",
       "      <td>0.426071</td>\n",
       "      <td>0.499019</td>\n",
       "      <td>0.472295</td>\n",
       "      <td>0.601450</td>\n",
       "      <td>0.601364</td>\n",
       "      <td>0.998857</td>\n",
       "      <td>0.796403</td>\n",
       "      <td>0.808388</td>\n",
       "      <td>0.302035</td>\n",
       "      <td>...</td>\n",
       "      <td>0.774670</td>\n",
       "      <td>0.040003</td>\n",
       "      <td>0.623841</td>\n",
       "      <td>0.601449</td>\n",
       "      <td>0.836774</td>\n",
       "      <td>0.290189</td>\n",
       "      <td>0.026555</td>\n",
       "      <td>0.563706</td>\n",
       "      <td>1</td>\n",
       "      <td>0.016474</td>\n",
       "    </tr>\n",
       "    <tr>\n",
       "      <th>3</th>\n",
       "      <td>1</td>\n",
       "      <td>0.399844</td>\n",
       "      <td>0.451265</td>\n",
       "      <td>0.457733</td>\n",
       "      <td>0.583541</td>\n",
       "      <td>0.583541</td>\n",
       "      <td>0.998700</td>\n",
       "      <td>0.796967</td>\n",
       "      <td>0.808966</td>\n",
       "      <td>0.303350</td>\n",
       "      <td>...</td>\n",
       "      <td>0.739555</td>\n",
       "      <td>0.003252</td>\n",
       "      <td>0.622929</td>\n",
       "      <td>0.583538</td>\n",
       "      <td>0.834697</td>\n",
       "      <td>0.281721</td>\n",
       "      <td>0.026697</td>\n",
       "      <td>0.564663</td>\n",
       "      <td>1</td>\n",
       "      <td>0.023982</td>\n",
       "    </tr>\n",
       "    <tr>\n",
       "      <th>4</th>\n",
       "      <td>1</td>\n",
       "      <td>0.465022</td>\n",
       "      <td>0.538432</td>\n",
       "      <td>0.522298</td>\n",
       "      <td>0.598783</td>\n",
       "      <td>0.598783</td>\n",
       "      <td>0.998973</td>\n",
       "      <td>0.797366</td>\n",
       "      <td>0.809304</td>\n",
       "      <td>0.303475</td>\n",
       "      <td>...</td>\n",
       "      <td>0.795016</td>\n",
       "      <td>0.003878</td>\n",
       "      <td>0.623521</td>\n",
       "      <td>0.598782</td>\n",
       "      <td>0.839973</td>\n",
       "      <td>0.278514</td>\n",
       "      <td>0.024752</td>\n",
       "      <td>0.575617</td>\n",
       "      <td>1</td>\n",
       "      <td>0.035490</td>\n",
       "    </tr>\n",
       "  </tbody>\n",
       "</table>\n",
       "<p>5 rows × 96 columns</p>\n",
       "</div>"
      ],
      "text/plain": [
       "   Bankrupt?   ROA(C) before interest and depreciation before interest  \\\n",
       "0          1                                           0.370594          \n",
       "1          1                                           0.464291          \n",
       "2          1                                           0.426071          \n",
       "3          1                                           0.399844          \n",
       "4          1                                           0.465022          \n",
       "\n",
       "    ROA(A) before interest and % after tax  \\\n",
       "0                                 0.424389   \n",
       "1                                 0.538214   \n",
       "2                                 0.499019   \n",
       "3                                 0.451265   \n",
       "4                                 0.538432   \n",
       "\n",
       "    ROA(B) before interest and depreciation after tax  \\\n",
       "0                                           0.405750    \n",
       "1                                           0.516730    \n",
       "2                                           0.472295    \n",
       "3                                           0.457733    \n",
       "4                                           0.522298    \n",
       "\n",
       "    Operating Gross Margin   Realized Sales Gross Margin  \\\n",
       "0                 0.601457                      0.601457   \n",
       "1                 0.610235                      0.610235   \n",
       "2                 0.601450                      0.601364   \n",
       "3                 0.583541                      0.583541   \n",
       "4                 0.598783                      0.598783   \n",
       "\n",
       "    Operating Profit Rate   Pre-tax net Interest Rate  \\\n",
       "0                0.998969                    0.796887   \n",
       "1                0.998946                    0.797380   \n",
       "2                0.998857                    0.796403   \n",
       "3                0.998700                    0.796967   \n",
       "4                0.998973                    0.797366   \n",
       "\n",
       "    After-tax net Interest Rate   Non-industry income and expenditure/revenue  \\\n",
       "0                      0.808809                                      0.302646   \n",
       "1                      0.809301                                      0.303556   \n",
       "2                      0.808388                                      0.302035   \n",
       "3                      0.808966                                      0.303350   \n",
       "4                      0.809304                                      0.303475   \n",
       "\n",
       "   ...   Net Income to Total Assets   Total assets to GNP price  \\\n",
       "0  ...                     0.716845                    0.009219   \n",
       "1  ...                     0.795297                    0.008323   \n",
       "2  ...                     0.774670                    0.040003   \n",
       "3  ...                     0.739555                    0.003252   \n",
       "4  ...                     0.795016                    0.003878   \n",
       "\n",
       "    No-credit Interval   Gross Profit to Sales  \\\n",
       "0             0.622879                0.601453   \n",
       "1             0.623652                0.610237   \n",
       "2             0.623841                0.601449   \n",
       "3             0.622929                0.583538   \n",
       "4             0.623521                0.598782   \n",
       "\n",
       "    Net Income to Stockholder's Equity   Liability to Equity  \\\n",
       "0                             0.827890              0.290202   \n",
       "1                             0.839969              0.283846   \n",
       "2                             0.836774              0.290189   \n",
       "3                             0.834697              0.281721   \n",
       "4                             0.839973              0.278514   \n",
       "\n",
       "    Degree of Financial Leverage (DFL)  \\\n",
       "0                             0.026601   \n",
       "1                             0.264577   \n",
       "2                             0.026555   \n",
       "3                             0.026697   \n",
       "4                             0.024752   \n",
       "\n",
       "    Interest Coverage Ratio (Interest expense to EBIT)   Net Income Flag  \\\n",
       "0                                           0.564050                   1   \n",
       "1                                           0.570175                   1   \n",
       "2                                           0.563706                   1   \n",
       "3                                           0.564663                   1   \n",
       "4                                           0.575617                   1   \n",
       "\n",
       "    Equity to Liability  \n",
       "0              0.016469  \n",
       "1              0.020794  \n",
       "2              0.016474  \n",
       "3              0.023982  \n",
       "4              0.035490  \n",
       "\n",
       "[5 rows x 96 columns]"
      ]
     },
     "execution_count": 2,
     "metadata": {},
     "output_type": "execute_result"
    }
   ],
   "source": [
    "df=pd.read_csv('/kaggle/input/company-bankruptcy-prediction/data.csv')\n",
    "data=df.copy()\n",
    "df.head()"
   ]
  },
  {
   "cell_type": "code",
   "execution_count": 3,
   "id": "fc211a33",
   "metadata": {
    "execution": {
     "iopub.execute_input": "2023-11-30T18:26:48.549016Z",
     "iopub.status.busy": "2023-11-30T18:26:48.548615Z",
     "iopub.status.idle": "2023-11-30T18:26:48.555687Z",
     "shell.execute_reply": "2023-11-30T18:26:48.554430Z"
    },
    "papermill": {
     "duration": 0.020547,
     "end_time": "2023-11-30T18:26:48.559148",
     "exception": false,
     "start_time": "2023-11-30T18:26:48.538601",
     "status": "completed"
    },
    "tags": []
   },
   "outputs": [
    {
     "name": "stdout",
     "output_type": "stream",
     "text": [
      "Bankrupt: 220,No Bankrupt:6599\n"
     ]
    }
   ],
   "source": [
    "print('Bankrupt: {},No Bankrupt:{}'.format((df['Bankrupt?']==1).sum(),(df['Bankrupt?']==0).sum()))"
   ]
  },
  {
   "cell_type": "markdown",
   "id": "dba22462",
   "metadata": {
    "papermill": {
     "duration": 0.008104,
     "end_time": "2023-11-30T18:26:48.575542",
     "exception": false,
     "start_time": "2023-11-30T18:26:48.567438",
     "status": "completed"
    },
    "tags": []
   },
   "source": [
    "We need to perform oversampling or undersampling as the classes are really imbalanced. So we use SMOTE technique"
   ]
  },
  {
   "cell_type": "code",
   "execution_count": 4,
   "id": "fe5992b7",
   "metadata": {
    "execution": {
     "iopub.execute_input": "2023-11-30T18:26:48.594361Z",
     "iopub.status.busy": "2023-11-30T18:26:48.593445Z",
     "iopub.status.idle": "2023-11-30T18:26:48.605630Z",
     "shell.execute_reply": "2023-11-30T18:26:48.604399Z"
    },
    "papermill": {
     "duration": 0.02517,
     "end_time": "2023-11-30T18:26:48.608553",
     "exception": false,
     "start_time": "2023-11-30T18:26:48.583383",
     "status": "completed"
    },
    "tags": []
   },
   "outputs": [
    {
     "name": "stdout",
     "output_type": "stream",
     "text": [
      "(6819, 96)\n",
      "Bankrupt?                                                     int64\n",
      " ROA(C) before interest and depreciation before interest    float64\n",
      " ROA(A) before interest and % after tax                     float64\n",
      " ROA(B) before interest and depreciation after tax          float64\n",
      " Operating Gross Margin                                     float64\n",
      "                                                             ...   \n",
      " Liability to Equity                                        float64\n",
      " Degree of Financial Leverage (DFL)                         float64\n",
      " Interest Coverage Ratio (Interest expense to EBIT)         float64\n",
      " Net Income Flag                                              int64\n",
      " Equity to Liability                                        float64\n",
      "Length: 96, dtype: object\n",
      "Bankrupt?                                                   0\n",
      " ROA(C) before interest and depreciation before interest    0\n",
      " ROA(A) before interest and % after tax                     0\n",
      " ROA(B) before interest and depreciation after tax          0\n",
      " Operating Gross Margin                                     0\n",
      "                                                           ..\n",
      " Liability to Equity                                        0\n",
      " Degree of Financial Leverage (DFL)                         0\n",
      " Interest Coverage Ratio (Interest expense to EBIT)         0\n",
      " Net Income Flag                                            0\n",
      " Equity to Liability                                        0\n",
      "Length: 96, dtype: int64\n"
     ]
    }
   ],
   "source": [
    "def check_basics(dataframe):\n",
    "    print(dataframe.shape)\n",
    "    print(dataframe.dtypes)\n",
    "    print(dataframe.isnull().sum())\n",
    "check_basics(df)    "
   ]
  },
  {
   "cell_type": "code",
   "execution_count": 5,
   "id": "0efdf8c3",
   "metadata": {
    "execution": {
     "iopub.execute_input": "2023-11-30T18:26:48.627520Z",
     "iopub.status.busy": "2023-11-30T18:26:48.626586Z",
     "iopub.status.idle": "2023-11-30T18:26:48.674808Z",
     "shell.execute_reply": "2023-11-30T18:26:48.673542Z"
    },
    "papermill": {
     "duration": 0.061327,
     "end_time": "2023-11-30T18:26:48.678006",
     "exception": false,
     "start_time": "2023-11-30T18:26:48.616679",
     "status": "completed"
    },
    "tags": []
   },
   "outputs": [],
   "source": [
    "df.drop(df.columns[df.nunique()==1][0],axis=1,inplace=True)\n",
    "df.columns=df.columns.str.replace(' ','')"
   ]
  },
  {
   "cell_type": "markdown",
   "id": "cc256fbe",
   "metadata": {
    "papermill": {
     "duration": 0.007841,
     "end_time": "2023-11-30T18:26:48.693997",
     "exception": false,
     "start_time": "2023-11-30T18:26:48.686156",
     "status": "completed"
    },
    "tags": []
   },
   "source": [
    "Next we find out categorical columns and numerical columns as well as columns with low cardinality. This is done to ensure that if some numerical values are represented in categotical values but with numbers, they can be classified. We also remove columns with low unique values. "
   ]
  },
  {
   "cell_type": "code",
   "execution_count": 6,
   "id": "2bcdeb3c",
   "metadata": {
    "execution": {
     "iopub.execute_input": "2023-11-30T18:26:48.712570Z",
     "iopub.status.busy": "2023-11-30T18:26:48.712147Z",
     "iopub.status.idle": "2023-11-30T18:26:48.770326Z",
     "shell.execute_reply": "2023-11-30T18:26:48.769154Z"
    },
    "papermill": {
     "duration": 0.070121,
     "end_time": "2023-11-30T18:26:48.772826",
     "exception": false,
     "start_time": "2023-11-30T18:26:48.702705",
     "status": "completed"
    },
    "tags": []
   },
   "outputs": [
    {
     "name": "stdout",
     "output_type": "stream",
     "text": [
      "Observations: 6819\n",
      "Variables: 95\n",
      "cat_cols: 2\n",
      "num_cols: 93\n",
      "cat_but_car: 0\n",
      "num_but_cat: 2\n"
     ]
    }
   ],
   "source": [
    "def clean_columns(dataframe,cat_th=10, car_th=20):\n",
    "    cat_cols=[col for col in dataframe.columns if dataframe[col].dtypes==\"0\" ]\n",
    "    num_but_cat=[col for col in dataframe.columns if dataframe[col].dtypes!=\"0\" and dataframe[col].nunique()<cat_th]\n",
    "    cat_but_car=[col for col in dataframe.columns if dataframe[col].dtypes==\"0\" and dataframe[col].nunique()>car_th]\n",
    "    cat_cols=cat_cols+num_but_cat\n",
    "    cat_cols=[col for col in cat_cols if col not in cat_but_car]\n",
    "    num_cols=[col for col in dataframe.columns if dataframe[col].dtypes!=\"0\"]\n",
    "    num_cols=[col for col in num_cols if col not in num_but_cat]\n",
    "    print(f\"Observations: {dataframe.shape[0]}\")\n",
    "    print(f\"Variables: {dataframe.shape[1]}\")\n",
    "    print(f'cat_cols: {len(cat_cols)}')\n",
    "    print(f'num_cols: {len(num_cols)}')\n",
    "    print(f'cat_but_car: {len(cat_but_car)}')\n",
    "    print(f'num_but_cat: {len(num_but_cat)}')\n",
    "    return cat_cols, cat_but_car, num_cols\n",
    "    \n",
    "cat_cols,cat_but_car,num_cols=clean_columns(df,10,20)    "
   ]
  },
  {
   "cell_type": "markdown",
   "id": "8ec69c43",
   "metadata": {
    "papermill": {
     "duration": 0.008303,
     "end_time": "2023-11-30T18:26:48.789148",
     "exception": false,
     "start_time": "2023-11-30T18:26:48.780845",
     "status": "completed"
    },
    "tags": []
   },
   "source": [
    "Next we process the outliers. For finding and setting the values of threshold we use IQR as it is more robust against outliers. We replace outliers with threshold values."
   ]
  },
  {
   "cell_type": "code",
   "execution_count": 7,
   "id": "b07ab1b4",
   "metadata": {
    "execution": {
     "iopub.execute_input": "2023-11-30T18:26:48.808152Z",
     "iopub.status.busy": "2023-11-30T18:26:48.807683Z",
     "iopub.status.idle": "2023-11-30T18:26:49.144907Z",
     "shell.execute_reply": "2023-11-30T18:26:49.143588Z"
    },
    "papermill": {
     "duration": 0.350455,
     "end_time": "2023-11-30T18:26:49.148147",
     "exception": false,
     "start_time": "2023-11-30T18:26:48.797692",
     "status": "completed"
    },
    "tags": []
   },
   "outputs": [
    {
     "name": "stdout",
     "output_type": "stream",
     "text": [
      "True\n",
      "True\n",
      "True\n",
      "True\n",
      "True\n",
      "True\n",
      "True\n",
      "True\n",
      "True\n",
      "True\n",
      "False\n",
      "False\n",
      "True\n",
      "True\n",
      "True\n",
      "True\n",
      "True\n",
      "True\n",
      "True\n",
      "True\n",
      "True\n",
      "True\n",
      "True\n",
      "True\n",
      "True\n",
      "True\n",
      "True\n",
      "True\n",
      "False\n",
      "True\n",
      "True\n",
      "True\n",
      "True\n",
      "True\n",
      "True\n",
      "True\n",
      "True\n",
      "True\n",
      "True\n",
      "True\n",
      "True\n",
      "True\n",
      "True\n",
      "True\n",
      "True\n",
      "True\n",
      "True\n",
      "False\n",
      "True\n",
      "True\n",
      "True\n",
      "True\n",
      "True\n",
      "True\n",
      "False\n",
      "False\n",
      "True\n",
      "True\n",
      "True\n",
      "True\n",
      "True\n",
      "True\n",
      "True\n",
      "False\n",
      "True\n",
      "True\n",
      "True\n",
      "True\n",
      "True\n",
      "True\n",
      "True\n",
      "False\n",
      "True\n",
      "False\n",
      "True\n",
      "True\n",
      "False\n",
      "True\n",
      "True\n",
      "True\n",
      "True\n",
      "True\n",
      "True\n",
      "True\n",
      "True\n",
      "True\n",
      "True\n",
      "True\n",
      "True\n",
      "True\n",
      "True\n",
      "True\n",
      "True\n"
     ]
    }
   ],
   "source": [
    "def find_threshold(dataframe,variable,low_quantile=0.15,up_quantile=0.85):\n",
    "    quantile_one=dataframe[variable].quantile(low_quantile)\n",
    "    quantile_three=dataframe[variable].quantile(up_quantile)\n",
    "    iqr=quantile_three-quantile_one\n",
    "    low_limit=quantile_one-(1.5*iqr)\n",
    "    up_limit=quantile_three+(1.5*iqr)\n",
    "    return low_limit, up_limit\n",
    "\n",
    "def check_outliers(dataframe, col_name):\n",
    "        low_limit,up_limit=find_threshold(df,col_name)\n",
    "        if dataframe[(dataframe[col_name]>up_limit) | (dataframe[col_name]<low_limit)].any(axis=None):\n",
    "            return True\n",
    "        else:\n",
    "            return False\n",
    "for col in num_cols:\n",
    "    print(check_outliers(df,col))"
   ]
  },
  {
   "cell_type": "code",
   "execution_count": 8,
   "id": "b829dd11",
   "metadata": {
    "execution": {
     "iopub.execute_input": "2023-11-30T18:26:49.168128Z",
     "iopub.status.busy": "2023-11-30T18:26:49.167687Z",
     "iopub.status.idle": "2023-11-30T18:26:49.435447Z",
     "shell.execute_reply": "2023-11-30T18:26:49.433460Z"
    },
    "papermill": {
     "duration": 0.281722,
     "end_time": "2023-11-30T18:26:49.439120",
     "exception": false,
     "start_time": "2023-11-30T18:26:49.157398",
     "status": "completed"
    },
    "tags": []
   },
   "outputs": [
    {
     "name": "stdout",
     "output_type": "stream",
     "text": [
      "ROA(C)beforeinterestanddepreciationbeforeinterest\n",
      "ROA(A)beforeinterestand%aftertax\n",
      "ROA(B)beforeinterestanddepreciationaftertax\n",
      "OperatingGrossMargin\n",
      "RealizedSalesGrossMargin\n",
      "OperatingProfitRate\n",
      "Pre-taxnetInterestRate\n",
      "After-taxnetInterestRate\n",
      "Non-industryincomeandexpenditure/revenue\n",
      "Continuousinterestrate(aftertax)\n",
      "OperatingExpenseRate\n",
      "Researchanddevelopmentexpenserate\n",
      "Cashflowrate\n",
      "Interest-bearingdebtinterestrate\n",
      "Taxrate(A)\n",
      "NetValuePerShare(B)\n",
      "NetValuePerShare(A)\n",
      "NetValuePerShare(C)\n",
      "PersistentEPSintheLastFourSeasons\n",
      "CashFlowPerShare\n",
      "RevenuePerShare(Yuan¥)\n",
      "OperatingProfitPerShare(Yuan¥)\n",
      "PerShareNetprofitbeforetax(Yuan¥)\n",
      "RealizedSalesGrossProfitGrowthRate\n",
      "OperatingProfitGrowthRate\n",
      "After-taxNetProfitGrowthRate\n",
      "RegularNetProfitGrowthRate\n",
      "ContinuousNetProfitGrowthRate\n",
      "TotalAssetGrowthRate\n",
      "NetValueGrowthRate\n",
      "TotalAssetReturnGrowthRateRatio\n",
      "CashReinvestment%\n",
      "CurrentRatio\n",
      "QuickRatio\n",
      "InterestExpenseRatio\n",
      "Totaldebt/Totalnetworth\n",
      "Debtratio%\n",
      "Networth/Assets\n",
      "Long-termfundsuitabilityratio(A)\n",
      "Borrowingdependency\n",
      "Contingentliabilities/Networth\n",
      "Operatingprofit/Paid-incapital\n",
      "Netprofitbeforetax/Paid-incapital\n",
      "Inventoryandaccountsreceivable/Netvalue\n",
      "TotalAssetTurnover\n",
      "AccountsReceivableTurnover\n",
      "AverageCollectionDays\n",
      "InventoryTurnoverRate(times)\n",
      "FixedAssetsTurnoverFrequency\n",
      "NetWorthTurnoverRate(times)\n",
      "Revenueperperson\n",
      "Operatingprofitperperson\n",
      "Allocationrateperperson\n",
      "WorkingCapitaltoTotalAssets\n",
      "QuickAssets/TotalAssets\n",
      "CurrentAssets/TotalAssets\n",
      "Cash/TotalAssets\n",
      "QuickAssets/CurrentLiability\n",
      "Cash/CurrentLiability\n",
      "CurrentLiabilitytoAssets\n",
      "OperatingFundstoLiability\n",
      "Inventory/WorkingCapital\n",
      "Inventory/CurrentLiability\n",
      "CurrentLiabilities/Liability\n",
      "WorkingCapital/Equity\n",
      "CurrentLiabilities/Equity\n",
      "Long-termLiabilitytoCurrentAssets\n",
      "RetainedEarningstoTotalAssets\n",
      "Totalincome/Totalexpense\n",
      "Totalexpense/Assets\n",
      "CurrentAssetTurnoverRate\n",
      "QuickAssetTurnoverRate\n",
      "WorkingcapitcalTurnoverRate\n",
      "CashTurnoverRate\n",
      "CashFlowtoSales\n",
      "FixedAssetstoAssets\n",
      "CurrentLiabilitytoLiability\n",
      "CurrentLiabilitytoEquity\n",
      "EquitytoLong-termLiability\n",
      "CashFlowtoTotalAssets\n",
      "CashFlowtoLiability\n",
      "CFOtoAssets\n",
      "CashFlowtoEquity\n",
      "CurrentLiabilitytoCurrentAssets\n",
      "NetIncometoTotalAssets\n",
      "TotalassetstoGNPprice\n",
      "No-creditInterval\n",
      "GrossProfittoSales\n",
      "NetIncometoStockholder'sEquity\n",
      "LiabilitytoEquity\n",
      "DegreeofFinancialLeverage(DFL)\n",
      "InterestCoverageRatio(InterestexpensetoEBIT)\n",
      "EquitytoLiability\n"
     ]
    }
   ],
   "source": [
    "def replace_with_threshold(dataframe, col_name):\n",
    "    low_limit, up_limit=find_threshold(dataframe,col_name)\n",
    "    dataframe.loc[dataframe[col_name]>up_limit,col_name]=up_limit\n",
    "    dataframe.loc[dataframe[col_name]<low_limit,col_name]=low_limit\n",
    "for col in num_cols:\n",
    "        print(col)\n",
    "        if(col!=\"SalePrice\"):\n",
    "            replace_with_threshold(df,col)\n",
    "    \n",
    "    "
   ]
  },
  {
   "cell_type": "code",
   "execution_count": 9,
   "id": "a8fd29e0",
   "metadata": {
    "execution": {
     "iopub.execute_input": "2023-11-30T18:26:49.461517Z",
     "iopub.status.busy": "2023-11-30T18:26:49.460851Z",
     "iopub.status.idle": "2023-11-30T18:26:49.473570Z",
     "shell.execute_reply": "2023-11-30T18:26:49.471818Z"
    },
    "papermill": {
     "duration": 0.027646,
     "end_time": "2023-11-30T18:26:49.476802",
     "exception": false,
     "start_time": "2023-11-30T18:26:49.449156",
     "status": "completed"
    },
    "tags": []
   },
   "outputs": [],
   "source": [
    "y=df['Bankrupt?']\n",
    "X=df.drop('Bankrupt?',axis=1)\n"
   ]
  },
  {
   "cell_type": "code",
   "execution_count": 10,
   "id": "d732e2a0",
   "metadata": {
    "execution": {
     "iopub.execute_input": "2023-11-30T18:26:49.502620Z",
     "iopub.status.busy": "2023-11-30T18:26:49.502191Z",
     "iopub.status.idle": "2023-11-30T18:26:50.580948Z",
     "shell.execute_reply": "2023-11-30T18:26:50.579695Z"
    },
    "papermill": {
     "duration": 1.094426,
     "end_time": "2023-11-30T18:26:50.584200",
     "exception": false,
     "start_time": "2023-11-30T18:26:49.489774",
     "status": "completed"
    },
    "tags": []
   },
   "outputs": [
    {
     "data": {
      "text/plain": [
       "(6819, 54)"
      ]
     },
     "execution_count": 10,
     "metadata": {},
     "output_type": "execute_result"
    }
   ],
   "source": [
    "pipeline=Pipeline(steps=[('constant',DropConstantFeatures()),\n",
    "                        ('correlated',DropCorrelatedFeatures()),\n",
    "                        ('duplicate',DropDuplicateFeatures())])\n",
    "X=pipeline.fit_transform(X)\n",
    "X.shape"
   ]
  },
  {
   "cell_type": "code",
   "execution_count": 11,
   "id": "7aee6b38",
   "metadata": {
    "execution": {
     "iopub.execute_input": "2023-11-30T18:26:50.606855Z",
     "iopub.status.busy": "2023-11-30T18:26:50.605705Z",
     "iopub.status.idle": "2023-11-30T18:26:50.632589Z",
     "shell.execute_reply": "2023-11-30T18:26:50.630951Z"
    },
    "papermill": {
     "duration": 0.041606,
     "end_time": "2023-11-30T18:26:50.636473",
     "exception": false,
     "start_time": "2023-11-30T18:26:50.594867",
     "status": "completed"
    },
    "tags": []
   },
   "outputs": [],
   "source": [
    "from sklearn.preprocessing import RobustScaler\n",
    "\n",
    "X_train,X_test,y_train,y_test=train_test_split(X,y,test_size=0.20,random_state=42, stratify=y)\n",
    "scale=StandardScaler()\n",
    "scaled_train_X=scale.fit_transform(X_train)"
   ]
  },
  {
   "cell_type": "code",
   "execution_count": 12,
   "id": "02bfec96",
   "metadata": {
    "execution": {
     "iopub.execute_input": "2023-11-30T18:26:50.656763Z",
     "iopub.status.busy": "2023-11-30T18:26:50.656330Z",
     "iopub.status.idle": "2023-11-30T18:26:50.747245Z",
     "shell.execute_reply": "2023-11-30T18:26:50.746117Z"
    },
    "papermill": {
     "duration": 0.105259,
     "end_time": "2023-11-30T18:26:50.751037",
     "exception": false,
     "start_time": "2023-11-30T18:26:50.645778",
     "status": "completed"
    },
    "tags": []
   },
   "outputs": [
    {
     "name": "stdout",
     "output_type": "stream",
     "text": [
      "[0.1596778  0.2606052  0.34743063 0.39863184 0.44687238 0.48538984\n",
      " 0.52089729 0.5545121  0.58576535 0.61121715 0.6339548  0.65504989\n",
      " 0.67443827 0.69349594 0.71176888 0.7290693  0.74592486 0.76157183\n",
      " 0.77650715 0.79131313 0.80556592 0.81907907 0.83239693 0.84458842\n",
      " 0.85659243 0.86794833 0.87882667 0.88885291 0.89859906 0.90694428\n",
      " 0.91469062 0.92185196 0.9289009  0.93561165 0.94206673 0.94760331\n",
      " 0.95275339 0.95762626 0.96240875 0.96660042 0.97071104 0.97462841\n",
      " 0.97817073 0.98139321 0.984443   0.98735434 0.99008344 0.99226952\n",
      " 0.99435924 0.99610517 0.99784282 0.99905458 0.99974338 1.        ]\n"
     ]
    }
   ],
   "source": [
    "from sklearn.decomposition import PCA\n",
    "\n",
    "pca=PCA()\n",
    "pca.fit(scaled_train_X)\n",
    "exp_variance=pca.explained_variance_ratio_\n",
    "cumulative_exp_variance=np.cumsum(exp_variance)\n",
    "print(cumulative_exp_variance)\n",
    "\n",
    "pca=PCA(n_components=54,random_state=7)\n",
    "train_pca=pca.fit_transform(scaled_train_X)\n",
    "\n",
    "scaled_test_X=scale.fit_transform(X_test)\n",
    "test_pca=pca.fit_transform(scaled_test_X)"
   ]
  },
  {
   "cell_type": "code",
   "execution_count": 13,
   "id": "9cff1e29",
   "metadata": {
    "execution": {
     "iopub.execute_input": "2023-11-30T18:26:50.793621Z",
     "iopub.status.busy": "2023-11-30T18:26:50.792878Z",
     "iopub.status.idle": "2023-11-30T18:26:50.803741Z",
     "shell.execute_reply": "2023-11-30T18:26:50.802560Z"
    },
    "papermill": {
     "duration": 0.036403,
     "end_time": "2023-11-30T18:26:50.807359",
     "exception": false,
     "start_time": "2023-11-30T18:26:50.770956",
     "status": "completed"
    },
    "tags": []
   },
   "outputs": [],
   "source": [
    "models=[]\n",
    "accuracy=[]\n",
    "f1=[]\n",
    "precision=[]\n",
    "recall=[]\n",
    "roc_auc=[]\n",
    "\n",
    "def train_and_evaluate_model(model):\n",
    "    model.fit(train_pca, y_train)\n",
    "    y_pred=model.predict(test_pca)\n",
    "    print(\"Classification Report:\")\n",
    "    print(classification_report(y_test,y_pred))\n",
    "    print(\"-\"*50)\n",
    "    \n",
    "\n"
   ]
  }
 ],
 "metadata": {
  "kaggle": {
   "accelerator": "none",
   "dataSources": [
    {
     "datasetId": 1111894,
     "sourceId": 1938459,
     "sourceType": "datasetVersion"
    }
   ],
   "dockerImageVersionId": 30587,
   "isGpuEnabled": false,
   "isInternetEnabled": true,
   "language": "python",
   "sourceType": "notebook"
  },
  "kernelspec": {
   "display_name": "Python 3",
   "language": "python",
   "name": "python3"
  },
  "language_info": {
   "codemirror_mode": {
    "name": "ipython",
    "version": 3
   },
   "file_extension": ".py",
   "mimetype": "text/x-python",
   "name": "python",
   "nbconvert_exporter": "python",
   "pygments_lexer": "ipython3",
   "version": "3.10.12"
  },
  "papermill": {
   "default_parameters": {},
   "duration": 29.444063,
   "end_time": "2023-11-30T18:26:51.758144",
   "environment_variables": {},
   "exception": null,
   "input_path": "__notebook__.ipynb",
   "output_path": "__notebook__.ipynb",
   "parameters": {},
   "start_time": "2023-11-30T18:26:22.314081",
   "version": "2.4.0"
  }
 },
 "nbformat": 4,
 "nbformat_minor": 5
}
